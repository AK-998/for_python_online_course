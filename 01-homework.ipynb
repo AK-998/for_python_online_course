{
 "cells": [
  {
   "cell_type": "markdown",
   "id": "5d6eaf8f",
   "metadata": {},
   "source": [
    "# easy"
   ]
  },
  {
   "cell_type": "code",
   "execution_count": 1,
   "id": "b7bb5784",
   "metadata": {},
   "outputs": [],
   "source": [
    "def squared_numbers_list(g):\n",
    "    a = []\n",
    "    for i in g:\n",
    "        a.append(i ** 2)\n",
    "    return a"
   ]
  },
  {
   "cell_type": "code",
   "execution_count": 2,
   "id": "f87a6b16",
   "metadata": {},
   "outputs": [
    {
     "data": {
      "text/plain": [
       "[]"
      ]
     },
     "execution_count": 2,
     "metadata": {},
     "output_type": "execute_result"
    }
   ],
   "source": [
    "squared_numbers_list(list())"
   ]
  },
  {
   "cell_type": "code",
   "execution_count": 4,
   "id": "f321eed8",
   "metadata": {},
   "outputs": [
    {
     "name": "stdout",
     "output_type": "stream",
     "text": [
      "196 µs ± 2.11 µs per loop (mean ± std. dev. of 7 runs, 1,000 loops each)\n"
     ]
    }
   ],
   "source": [
    "%%timeit\n",
    "\n",
    "squared_numbers_list(list(range(1000)))"
   ]
  },
  {
   "cell_type": "markdown",
   "id": "0f076ab5",
   "metadata": {},
   "source": [
    "# medium"
   ]
  },
  {
   "cell_type": "code",
   "execution_count": 5,
   "id": "bc3a715e",
   "metadata": {},
   "outputs": [],
   "source": [
    "def squared_numbers_list_wo_loops(g):\n",
    "    g = list(map(lambda x: x ** 2, g))\n",
    "    return g"
   ]
  },
  {
   "cell_type": "code",
   "execution_count": 7,
   "id": "f279f4af",
   "metadata": {},
   "outputs": [
    {
     "name": "stdout",
     "output_type": "stream",
     "text": [
      "212 µs ± 4.06 µs per loop (mean ± std. dev. of 7 runs, 1,000 loops each)\n"
     ]
    }
   ],
   "source": [
    "%%timeit\n",
    "\n",
    "squared_numbers_list_wo_loops(list(range(1000)))"
   ]
  },
  {
   "cell_type": "markdown",
   "id": "b7477db5",
   "metadata": {},
   "source": [
    "# Hard"
   ]
  },
  {
   "cell_type": "code",
   "execution_count": 23,
   "id": "2114d230",
   "metadata": {},
   "outputs": [],
   "source": [
    "def stats (f):\n",
    "    f = sorted(f)\n",
    "    mean = sum(f) / len(f) if len(f) > 0 else 0\n",
    "    if len(f) % 2 == 1:\n",
    "        median = f[len(f) // 2]\n",
    "    elif len (f) > 0:\n",
    "        median = (f[len(f) // 2] + f[len(f) // 2 - 1]) / 2\n",
    "    else:\n",
    "        median = 0\n",
    "    mode = f[0]\n",
    "    num = f.count(f[0])\n",
    "    for i in f:\n",
    "        if f.count(i) > num:\n",
    "            mode = i\n",
    "    return {\"mean\": mean, \"median\": median, \"mode\": mode}"
   ]
  },
  {
   "cell_type": "code",
   "execution_count": 24,
   "id": "b72304f8",
   "metadata": {},
   "outputs": [
    {
     "data": {
      "text/plain": [
       "{'mean': 3.4285714285714284, 'median': 3, 'mode': 1}"
      ]
     },
     "execution_count": 24,
     "metadata": {},
     "output_type": "execute_result"
    }
   ],
   "source": [
    "stats([0, 1, 1, 10, 5, 4, 3])"
   ]
  }
 ],
 "metadata": {
  "kernelspec": {
   "display_name": "Python 3 (ipykernel)",
   "language": "python",
   "name": "python3"
  },
  "language_info": {
   "codemirror_mode": {
    "name": "ipython",
    "version": 3
   },
   "file_extension": ".py",
   "mimetype": "text/x-python",
   "name": "python",
   "nbconvert_exporter": "python",
   "pygments_lexer": "ipython3",
   "version": "3.9.15"
  }
 },
 "nbformat": 4,
 "nbformat_minor": 5
}
