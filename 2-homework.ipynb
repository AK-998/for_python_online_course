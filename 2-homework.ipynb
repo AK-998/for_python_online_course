{
 "cells": [
  {
   "cell_type": "code",
   "execution_count": 1,
   "id": "2cc53856",
   "metadata": {},
   "outputs": [],
   "source": [
    "import pandas as pd"
   ]
  },
  {
   "cell_type": "code",
   "execution_count": 167,
   "id": "ffa6beb1",
   "metadata": {},
   "outputs": [],
   "source": [
    "df = pd.read_csv('C:/Users/Алексей Корнейчук/Documents/anaconda/ds_course_brunoyam/data/dota_hero_stats.csv', sep=';')"
   ]
  },
  {
   "cell_type": "code",
   "execution_count": 88,
   "id": "0e333aa6",
   "metadata": {},
   "outputs": [
    {
     "data": {
      "text/html": [
       "<div>\n",
       "<style scoped>\n",
       "    .dataframe tbody tr th:only-of-type {\n",
       "        vertical-align: middle;\n",
       "    }\n",
       "\n",
       "    .dataframe tbody tr th {\n",
       "        vertical-align: top;\n",
       "    }\n",
       "\n",
       "    .dataframe thead th {\n",
       "        text-align: right;\n",
       "    }\n",
       "</style>\n",
       "<table border=\"1\" class=\"dataframe\">\n",
       "  <thead>\n",
       "    <tr style=\"text-align: right;\">\n",
       "      <th></th>\n",
       "      <th>attack_type</th>\n",
       "      <th>id</th>\n",
       "      <th>legs</th>\n",
       "      <th>localized_name</th>\n",
       "      <th>name</th>\n",
       "      <th>primary_attr</th>\n",
       "      <th>roles</th>\n",
       "    </tr>\n",
       "  </thead>\n",
       "  <tbody>\n",
       "    <tr>\n",
       "      <th>0</th>\n",
       "      <td>Melee</td>\n",
       "      <td>1</td>\n",
       "      <td>2</td>\n",
       "      <td>Anti-Mage</td>\n",
       "      <td>npc_dota_hero_antimage</td>\n",
       "      <td>agi</td>\n",
       "      <td>['Carry', 'Escape', 'Nuker']</td>\n",
       "    </tr>\n",
       "    <tr>\n",
       "      <th>1</th>\n",
       "      <td>Melee</td>\n",
       "      <td>2</td>\n",
       "      <td>2</td>\n",
       "      <td>Axe</td>\n",
       "      <td>npc_dota_hero_axe</td>\n",
       "      <td>str</td>\n",
       "      <td>['Initiator', 'Durable', 'Disabler', 'Jungler']</td>\n",
       "    </tr>\n",
       "    <tr>\n",
       "      <th>2</th>\n",
       "      <td>Ranged</td>\n",
       "      <td>3</td>\n",
       "      <td>4</td>\n",
       "      <td>Bane</td>\n",
       "      <td>npc_dota_hero_bane</td>\n",
       "      <td>int</td>\n",
       "      <td>['Support', 'Disabler', 'Nuker', 'Durable']</td>\n",
       "    </tr>\n",
       "    <tr>\n",
       "      <th>3</th>\n",
       "      <td>Melee</td>\n",
       "      <td>4</td>\n",
       "      <td>2</td>\n",
       "      <td>Bloodseeker</td>\n",
       "      <td>npc_dota_hero_bloodseeker</td>\n",
       "      <td>agi</td>\n",
       "      <td>['Carry', 'Disabler', 'Jungler', 'Nuker', 'Ini...</td>\n",
       "    </tr>\n",
       "    <tr>\n",
       "      <th>4</th>\n",
       "      <td>Ranged</td>\n",
       "      <td>5</td>\n",
       "      <td>2</td>\n",
       "      <td>Crystal Maiden</td>\n",
       "      <td>npc_dota_hero_crystal_maiden</td>\n",
       "      <td>int</td>\n",
       "      <td>['Support', 'Disabler', 'Nuker', 'Jungler']</td>\n",
       "    </tr>\n",
       "  </tbody>\n",
       "</table>\n",
       "</div>"
      ],
      "text/plain": [
       "  attack_type  id  legs  localized_name                          name  \\\n",
       "0       Melee   1     2       Anti-Mage        npc_dota_hero_antimage   \n",
       "1       Melee   2     2             Axe             npc_dota_hero_axe   \n",
       "2      Ranged   3     4            Bane            npc_dota_hero_bane   \n",
       "3       Melee   4     2     Bloodseeker     npc_dota_hero_bloodseeker   \n",
       "4      Ranged   5     2  Crystal Maiden  npc_dota_hero_crystal_maiden   \n",
       "\n",
       "  primary_attr                                              roles  \n",
       "0          agi                       ['Carry', 'Escape', 'Nuker']  \n",
       "1          str    ['Initiator', 'Durable', 'Disabler', 'Jungler']  \n",
       "2          int        ['Support', 'Disabler', 'Nuker', 'Durable']  \n",
       "3          agi  ['Carry', 'Disabler', 'Jungler', 'Nuker', 'Ini...  \n",
       "4          int        ['Support', 'Disabler', 'Nuker', 'Jungler']  "
      ]
     },
     "execution_count": 88,
     "metadata": {},
     "output_type": "execute_result"
    }
   ],
   "source": [
    "df.head()"
   ]
  },
  {
   "cell_type": "markdown",
   "id": "e3d364cd",
   "metadata": {},
   "source": [
    " # easy"
   ]
  },
  {
   "cell_type": "code",
   "execution_count": 37,
   "id": "6f46e1c6",
   "metadata": {
    "scrolled": true
   },
   "outputs": [
    {
     "data": {
      "text/plain": [
       "legs\n",
       "0    11\n",
       "2    95\n",
       "4     7\n",
       "6     3\n",
       "8     1\n",
       "Name: name, dtype: int64"
      ]
     },
     "execution_count": 37,
     "metadata": {},
     "output_type": "execute_result"
    }
   ],
   "source": [
    "df.groupby(['legs']).count()['name']"
   ]
  },
  {
   "cell_type": "markdown",
   "id": "10fc0c4c",
   "metadata": {},
   "source": [
    "# Normal"
   ]
  },
  {
   "cell_type": "code",
   "execution_count": 74,
   "id": "0c544f07",
   "metadata": {},
   "outputs": [
    {
     "data": {
      "text/plain": [
       "primary_attr  attack_type\n",
       "int           Ranged         40\n",
       "Name: name, dtype: int64"
      ]
     },
     "execution_count": 74,
     "metadata": {},
     "output_type": "execute_result"
    }
   ],
   "source": [
    "df.groupby(['primary_attr', 'attack_type']).count()['name'][df.groupby(['primary_attr', 'attack_type']).count()['name'] == 40]"
   ]
  },
  {
   "cell_type": "code",
   "execution_count": null,
   "id": "fb35c910",
   "metadata": {},
   "outputs": [],
   "source": [
    "df.groupby(['primary_attr', 'attack_type']).count()"
   ]
  },
  {
   "cell_type": "code",
   "execution_count": 81,
   "id": "de2758e1",
   "metadata": {},
   "outputs": [
    {
     "data": {
      "text/html": [
       "<div>\n",
       "<style scoped>\n",
       "    .dataframe tbody tr th:only-of-type {\n",
       "        vertical-align: middle;\n",
       "    }\n",
       "\n",
       "    .dataframe tbody tr th {\n",
       "        vertical-align: top;\n",
       "    }\n",
       "\n",
       "    .dataframe thead th {\n",
       "        text-align: right;\n",
       "    }\n",
       "</style>\n",
       "<table border=\"1\" class=\"dataframe\">\n",
       "  <thead>\n",
       "    <tr style=\"text-align: right;\">\n",
       "      <th></th>\n",
       "      <th></th>\n",
       "      <th>id</th>\n",
       "      <th>legs</th>\n",
       "      <th>localized_name</th>\n",
       "      <th>name</th>\n",
       "      <th>roles</th>\n",
       "    </tr>\n",
       "    <tr>\n",
       "      <th>primary_attr</th>\n",
       "      <th>attack_type</th>\n",
       "      <th></th>\n",
       "      <th></th>\n",
       "      <th></th>\n",
       "      <th></th>\n",
       "      <th></th>\n",
       "    </tr>\n",
       "  </thead>\n",
       "  <tbody>\n",
       "    <tr>\n",
       "      <th rowspan=\"2\" valign=\"top\">agi</th>\n",
       "      <th>Melee</th>\n",
       "      <td>19</td>\n",
       "      <td>19</td>\n",
       "      <td>19</td>\n",
       "      <td>19</td>\n",
       "      <td>19</td>\n",
       "    </tr>\n",
       "    <tr>\n",
       "      <th>Ranged</th>\n",
       "      <td>18</td>\n",
       "      <td>18</td>\n",
       "      <td>18</td>\n",
       "      <td>18</td>\n",
       "      <td>18</td>\n",
       "    </tr>\n",
       "    <tr>\n",
       "      <th rowspan=\"2\" valign=\"top\">int</th>\n",
       "      <th>Melee</th>\n",
       "      <td>2</td>\n",
       "      <td>2</td>\n",
       "      <td>2</td>\n",
       "      <td>2</td>\n",
       "      <td>2</td>\n",
       "    </tr>\n",
       "    <tr>\n",
       "      <th>Ranged</th>\n",
       "      <td>40</td>\n",
       "      <td>40</td>\n",
       "      <td>40</td>\n",
       "      <td>40</td>\n",
       "      <td>40</td>\n",
       "    </tr>\n",
       "    <tr>\n",
       "      <th rowspan=\"2\" valign=\"top\">str</th>\n",
       "      <th>Melee</th>\n",
       "      <td>35</td>\n",
       "      <td>35</td>\n",
       "      <td>35</td>\n",
       "      <td>35</td>\n",
       "      <td>35</td>\n",
       "    </tr>\n",
       "    <tr>\n",
       "      <th>Ranged</th>\n",
       "      <td>3</td>\n",
       "      <td>3</td>\n",
       "      <td>3</td>\n",
       "      <td>3</td>\n",
       "      <td>3</td>\n",
       "    </tr>\n",
       "  </tbody>\n",
       "</table>\n",
       "</div>"
      ],
      "text/plain": [
       "                          id  legs  localized_name  name  roles\n",
       "primary_attr attack_type                                       \n",
       "agi          Melee        19    19              19    19     19\n",
       "             Ranged       18    18              18    18     18\n",
       "int          Melee         2     2               2     2      2\n",
       "             Ranged       40    40              40    40     40\n",
       "str          Melee        35    35              35    35     35\n",
       "             Ranged        3     3               3     3      3"
      ]
     },
     "execution_count": 81,
     "metadata": {},
     "output_type": "execute_result"
    }
   ],
   "source": [
    "df.groupby(['primary_attr', 'attack_type']).count()['name']"
   ]
  },
  {
   "cell_type": "code",
   "execution_count": 94,
   "id": "bdf14895",
   "metadata": {},
   "outputs": [
    {
     "data": {
      "text/plain": [
       "2                     Bane\n",
       "4           Crystal Maiden\n",
       "12                    Puck\n",
       "16            Storm Spirit\n",
       "20              Windranger\n",
       "21                    Zeus\n",
       "23                    Lina\n",
       "24                    Lion\n",
       "25           Shadow Shaman\n",
       "28            Witch Doctor\n",
       "29                    Lich\n",
       "31                  Enigma\n",
       "32                  Tinker\n",
       "34               Necrophos\n",
       "35                 Warlock\n",
       "37           Queen of Pain\n",
       "41           Death Prophet\n",
       "43                   Pugna\n",
       "48                  Dazzle\n",
       "50                 Leshrac\n",
       "51        Nature's Prophet\n",
       "56             Enchantress\n",
       "62                  Jakiro\n",
       "63                Batrider\n",
       "64                    Chen\n",
       "66      Ancient Apparition\n",
       "72                 Invoker\n",
       "73                Silencer\n",
       "74       Outworld Devourer\n",
       "77            Shadow Demon\n",
       "84                  Rubick\n",
       "85               Disruptor\n",
       "88     Keeper of the Light\n",
       "90                  Visage\n",
       "99           Skywrath Mage\n",
       "103                Techies\n",
       "109                 Oracle\n",
       "110          Winter Wyvern\n",
       "113            Dark Willow\n",
       "115             Grimstroke\n",
       "Name: localized_name, dtype: object"
      ]
     },
     "execution_count": 94,
     "metadata": {},
     "output_type": "execute_result"
    }
   ],
   "source": [
    "df['localized_name'][(df['attack_type'] == 'Ranged') & (df['primary_attr'] == 'int')]"
   ]
  },
  {
   "cell_type": "markdown",
   "id": "99350df2",
   "metadata": {},
   "source": [
    "# Hard"
   ]
  },
  {
   "cell_type": "code",
   "execution_count": 183,
   "id": "b8054417",
   "metadata": {},
   "outputs": [],
   "source": [
    "df['roles'] = df['roles'].apply(lambda x: x.replace(\"'\",\"\"))"
   ]
  },
  {
   "cell_type": "code",
   "execution_count": 203,
   "id": "62c4652d",
   "metadata": {},
   "outputs": [],
   "source": [
    "df['new_roles'] = df['roles'].apply(lambda x: x.replace(\"[\",\"\"))"
   ]
  },
  {
   "cell_type": "code",
   "execution_count": 204,
   "id": "7def6389",
   "metadata": {},
   "outputs": [],
   "source": [
    "df['new_roles'] = df['new_roles'].apply(lambda x: x.replace(\"]\",\"\"))"
   ]
  },
  {
   "cell_type": "code",
   "execution_count": 205,
   "id": "3d4a1312",
   "metadata": {},
   "outputs": [],
   "source": [
    "df['new_roles'] = df['new_roles'].apply(lambda x: x.replace(\",\",\"\"))"
   ]
  },
  {
   "cell_type": "code",
   "execution_count": 206,
   "id": "1e5bcb2f",
   "metadata": {},
   "outputs": [],
   "source": [
    "df['new_roles'] = df['new_roles'].apply(lambda x: x.split())"
   ]
  },
  {
   "cell_type": "code",
   "execution_count": 207,
   "id": "ac76f3b6",
   "metadata": {},
   "outputs": [
    {
     "data": {
      "text/html": [
       "<div>\n",
       "<style scoped>\n",
       "    .dataframe tbody tr th:only-of-type {\n",
       "        vertical-align: middle;\n",
       "    }\n",
       "\n",
       "    .dataframe tbody tr th {\n",
       "        vertical-align: top;\n",
       "    }\n",
       "\n",
       "    .dataframe thead th {\n",
       "        text-align: right;\n",
       "    }\n",
       "</style>\n",
       "<table border=\"1\" class=\"dataframe\">\n",
       "  <thead>\n",
       "    <tr style=\"text-align: right;\">\n",
       "      <th></th>\n",
       "      <th>attack_type</th>\n",
       "      <th>id</th>\n",
       "      <th>legs</th>\n",
       "      <th>localized_name</th>\n",
       "      <th>name</th>\n",
       "      <th>primary_attr</th>\n",
       "      <th>roles</th>\n",
       "      <th>new_roles</th>\n",
       "    </tr>\n",
       "  </thead>\n",
       "  <tbody>\n",
       "    <tr>\n",
       "      <th>0</th>\n",
       "      <td>Melee</td>\n",
       "      <td>1</td>\n",
       "      <td>2</td>\n",
       "      <td>Anti-Mage</td>\n",
       "      <td>npc_dota_hero_antimage</td>\n",
       "      <td>agi</td>\n",
       "      <td>[Carry, Escape, Nuker]</td>\n",
       "      <td>[Carry, Escape, Nuker]</td>\n",
       "    </tr>\n",
       "    <tr>\n",
       "      <th>1</th>\n",
       "      <td>Melee</td>\n",
       "      <td>2</td>\n",
       "      <td>2</td>\n",
       "      <td>Axe</td>\n",
       "      <td>npc_dota_hero_axe</td>\n",
       "      <td>str</td>\n",
       "      <td>[Initiator, Durable, Disabler, Jungler]</td>\n",
       "      <td>[Initiator, Durable, Disabler, Jungler]</td>\n",
       "    </tr>\n",
       "    <tr>\n",
       "      <th>2</th>\n",
       "      <td>Ranged</td>\n",
       "      <td>3</td>\n",
       "      <td>4</td>\n",
       "      <td>Bane</td>\n",
       "      <td>npc_dota_hero_bane</td>\n",
       "      <td>int</td>\n",
       "      <td>[Support, Disabler, Nuker, Durable]</td>\n",
       "      <td>[Support, Disabler, Nuker, Durable]</td>\n",
       "    </tr>\n",
       "    <tr>\n",
       "      <th>3</th>\n",
       "      <td>Melee</td>\n",
       "      <td>4</td>\n",
       "      <td>2</td>\n",
       "      <td>Bloodseeker</td>\n",
       "      <td>npc_dota_hero_bloodseeker</td>\n",
       "      <td>agi</td>\n",
       "      <td>[Carry, Disabler, Jungler, Nuker, Initiator]</td>\n",
       "      <td>[Carry, Disabler, Jungler, Nuker, Initiator]</td>\n",
       "    </tr>\n",
       "    <tr>\n",
       "      <th>4</th>\n",
       "      <td>Ranged</td>\n",
       "      <td>5</td>\n",
       "      <td>2</td>\n",
       "      <td>Crystal Maiden</td>\n",
       "      <td>npc_dota_hero_crystal_maiden</td>\n",
       "      <td>int</td>\n",
       "      <td>[Support, Disabler, Nuker, Jungler]</td>\n",
       "      <td>[Support, Disabler, Nuker, Jungler]</td>\n",
       "    </tr>\n",
       "  </tbody>\n",
       "</table>\n",
       "</div>"
      ],
      "text/plain": [
       "  attack_type  id  legs  localized_name                          name  \\\n",
       "0       Melee   1     2       Anti-Mage        npc_dota_hero_antimage   \n",
       "1       Melee   2     2             Axe             npc_dota_hero_axe   \n",
       "2      Ranged   3     4            Bane            npc_dota_hero_bane   \n",
       "3       Melee   4     2     Bloodseeker     npc_dota_hero_bloodseeker   \n",
       "4      Ranged   5     2  Crystal Maiden  npc_dota_hero_crystal_maiden   \n",
       "\n",
       "  primary_attr                                         roles  \\\n",
       "0          agi                        [Carry, Escape, Nuker]   \n",
       "1          str       [Initiator, Durable, Disabler, Jungler]   \n",
       "2          int           [Support, Disabler, Nuker, Durable]   \n",
       "3          agi  [Carry, Disabler, Jungler, Nuker, Initiator]   \n",
       "4          int           [Support, Disabler, Nuker, Jungler]   \n",
       "\n",
       "                                      new_roles  \n",
       "0                        [Carry, Escape, Nuker]  \n",
       "1       [Initiator, Durable, Disabler, Jungler]  \n",
       "2           [Support, Disabler, Nuker, Durable]  \n",
       "3  [Carry, Disabler, Jungler, Nuker, Initiator]  \n",
       "4           [Support, Disabler, Nuker, Jungler]  "
      ]
     },
     "execution_count": 207,
     "metadata": {},
     "output_type": "execute_result"
    }
   ],
   "source": [
    "df.head()"
   ]
  },
  {
   "cell_type": "code",
   "execution_count": 208,
   "id": "c0143cb3",
   "metadata": {},
   "outputs": [],
   "source": [
    "extended_df_with_roles = df.explode('new_roles')"
   ]
  },
  {
   "cell_type": "code",
   "execution_count": 209,
   "id": "6e8544c9",
   "metadata": {},
   "outputs": [
    {
     "data": {
      "text/plain": [
       "new_roles  primary_attr\n",
       "Carry      agi             33\n",
       "           int             12\n",
       "           str             19\n",
       "Disabler   agi             20\n",
       "           int             35\n",
       "           str             31\n",
       "Durable    agi             10\n",
       "           int              5\n",
       "           str             32\n",
       "Escape     agi             23\n",
       "           int             11\n",
       "           str             13\n",
       "Initiator  agi             11\n",
       "           int             12\n",
       "           str             30\n",
       "Jungler    agi              3\n",
       "           int              8\n",
       "           str              4\n",
       "Nuker      agi             21\n",
       "           int             36\n",
       "           str             27\n",
       "Pusher     agi             13\n",
       "           int             12\n",
       "           str              4\n",
       "Support    agi              4\n",
       "           int             27\n",
       "           str             12\n",
       "Name: localized_name, dtype: int64"
      ]
     },
     "execution_count": 209,
     "metadata": {},
     "output_type": "execute_result"
    }
   ],
   "source": [
    "extended_df_with_roles.groupby(['new_roles', 'primary_attr']).count()['localized_name']"
   ]
  },
  {
   "cell_type": "code",
   "execution_count": null,
   "id": "9bd88c5e",
   "metadata": {},
   "outputs": [],
   "source": []
  }
 ],
 "metadata": {
  "kernelspec": {
   "display_name": "Python 3 (ipykernel)",
   "language": "python",
   "name": "python3"
  },
  "language_info": {
   "codemirror_mode": {
    "name": "ipython",
    "version": 3
   },
   "file_extension": ".py",
   "mimetype": "text/x-python",
   "name": "python",
   "nbconvert_exporter": "python",
   "pygments_lexer": "ipython3",
   "version": "3.9.15"
  }
 },
 "nbformat": 4,
 "nbformat_minor": 5
}
